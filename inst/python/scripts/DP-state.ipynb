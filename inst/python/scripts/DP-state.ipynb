{
 "cells": [
  {
   "cell_type": "code",
   "execution_count": 1,
   "metadata": {
    "collapsed": true
   },
   "outputs": [],
   "source": [
    "import tensorflow as tf\n",
    "import matplotlib.pyplot as plt\n",
    "import numpy as np\n",
    "from edward.models import DirichletProcess, Normal"
   ]
  },
  {
   "cell_type": "code",
   "execution_count": 2,
   "metadata": {
    "collapsed": true
   },
   "outputs": [],
   "source": [
    "alpha = 1.\n",
    "baseargs = {\n",
    "    'mu' : 0.,\n",
    "    'sigma' : 1.\n",
    "}\n",
    "dp = DirichletProcess(alpha, Normal, **baseargs)\n",
    "x1 = dp.sample(100)\n",
    "x2 = dp.sample(100)"
   ]
  },
  {
   "cell_type": "code",
   "execution_count": 3,
   "metadata": {
    "collapsed": true
   },
   "outputs": [],
   "source": [
    "sess = tf.Session()\n",
    "samples1, samples2 = sess.run([x1, x2])"
   ]
  },
  {
   "cell_type": "code",
   "execution_count": 4,
   "metadata": {
    "collapsed": false
   },
   "outputs": [
    {
     "name": "stdout",
     "output_type": "stream",
     "text": [
      "[-1.24813426 -1.14831877 -0.13626984  0.05104868  0.46437964  0.47401702\n",
      "  0.60393119]\n",
      "[-1.3103987  -0.70315558 -0.63745934 -0.61462396  1.20731187]\n"
     ]
    }
   ],
   "source": [
    "print(np.sort(np.unique(samples1)))\n",
    "print(np.sort(np.unique(samples2)))"
   ]
  },
  {
   "cell_type": "code",
   "execution_count": 5,
   "metadata": {
    "collapsed": false,
    "deletable": true,
    "editable": true
   },
   "outputs": [
    {
     "data": {
      "image/png": "[encoded data removed]",
      "text/plain": [
       "<matplotlib.figure.Figure at 0x7ff5a80fe828>"
      ]
     },
     "metadata": {},
     "output_type": "display_data"
    }
   ],
   "source": [
    "plt.hist(samples1, bins=100, range=(-3.0, 3.0))\n",
    "plt.hist(samples2, bins=100, range=(-3.0, 3.0))\n",
    "plt.title(\"DP({0}, N(0, 1))\".format(alpha))\n",
    "plt.show()"
   ]
  },
  {
   "cell_type": "code",
   "execution_count": null,
   "metadata": {
    "collapsed": true
   },
   "outputs": [],
   "source": []
  }
 ],
 "metadata": {
  "kernelspec": {
   "display_name": "Python 3",
   "language": "python",
   "name": "python3"
  },
  "language_info": {
   "codemirror_mode": {
    "name": "ipython",
    "version": 3
   },
   "file_extension": ".py",
   "mimetype": "text/x-python",
   "name": "python",
   "nbconvert_exporter": "python",
   "pygments_lexer": "ipython3",
   "version": "3.5.2"
  }
 },
 "nbformat": 4,
 "nbformat_minor": 2
}
