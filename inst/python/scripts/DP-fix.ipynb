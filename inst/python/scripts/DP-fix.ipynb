{
 "cells": [
  {
   "cell_type": "code",
   "execution_count": 3,
   "metadata": {
    "collapsed": true
   },
   "outputs": [],
   "source": [
    "import matplotlib.pyplot as plt\n",
    "import tensorflow as tf\n",
    "from edward.models.random_variable import RandomVariable\n",
    "from edward.models.random_variables import Bernoulli, Beta\n",
    "from tensorflow.contrib.distributions import Distribution\n",
    "from edward.models import Bernoulli, Beta, Exponential, Normal\n",
    "plt.style.use('ggplot')"
   ]
  },
  {
   "cell_type": "code",
   "execution_count": 4,
   "metadata": {
    "collapsed": false
   },
   "outputs": [
    {
     "name": "stdout",
     "output_type": "stream",
     "text": [
      "(1, 3, 4, 5)\n",
      "(0, 1, 3, 4, 5)\n",
      "Tensor(\"Shape:0\", shape=(5,), dtype=int32)\n",
      "(0, 1, 3, 4, 5)\n"
     ]
    }
   ],
   "source": [
    "x = tf.zeros((1,3))\n",
    "y = tf.zeros((4,5))\n",
    "print(x.shape.concatenate(y.shape))\n",
    "a = tf.zeros([0] + x.shape.as_list() + y.shape.as_list())\n",
    "print(a.shape)\n",
    "print(tf.shape(a))\n",
    "print(a.get_shape())"
   ]
  },
  {
   "cell_type": "code",
   "execution_count": 5,
   "metadata": {
    "collapsed": false
   },
   "outputs": [],
   "source": [
    "class DirichletProcess(RandomVariable, Distribution):\n",
    "  def __init__(self, alpha, base_cls, validate_args=False, allow_nan_stats=True,\n",
    "               name=\"DirichletProcess\", value=None, *args, **kwargs):\n",
    "    \"\"\"Dirichlet process :math:`\\mathcal{DP}(\\\\alpha, H)`.\n",
    "\n",
    "    It has two parameters: a positive real value :math:`\\\\alpha`,\n",
    "    known as the concentration parameter (``alpha``), and a base\n",
    "    distribution :math:`H` (``base_cls(*args, **kwargs)``).\n",
    "\n",
    "    Parameters\n",
    "    ----------\n",
    "    alpha : tf.Tensor\n",
    "      Concentration parameter. Must be positive real-valued. Its shape\n",
    "      determines the number of independent DPs (batch shape).\n",
    "    base_cls : RandomVariable\n",
    "      Class of base distribution. Its shape (when instantiated)\n",
    "      determines the shape of an individual DP (event shape).\n",
    "    *args, **kwargs : optional\n",
    "      Arguments passed into ``base_cls``.\n",
    "\n",
    "    Examples\n",
    "    --------\n",
    "    >>> # scalar concentration parameter, scalar base distribution\n",
    "    >>> dp = DirichletProcess(0.1, Normal, mu=0.0, sigma=1.0)\n",
    "    >>> assert dp.get_shape() == ()\n",
    "    >>>\n",
    "    >>> # vector of concentration parameters, matrix of Exponentials\n",
    "    >>> dp = DirichletProcess(tf.constant([0.1, 0.4]),\n",
    "    ...                       Exponential, lam=tf.ones([5, 3]))\n",
    "    >>> assert dp.get_shape() == (2, 5, 3)\n",
    "    \"\"\"\n",
    "    parameters = locals()\n",
    "    parameters.pop(\"self\")\n",
    "    with tf.name_scope(name, values=[alpha]) as ns:\n",
    "      with tf.control_dependencies([]):\n",
    "        self._alpha = tf.identity(alpha, name=\"alpha\")\n",
    "        self._base_cls = base_cls\n",
    "        self._base_args = args\n",
    "        self._base_kwargs = kwargs\n",
    "\n",
    "        # Instantiate base distribution.\n",
    "        self._base = self._base_cls(*self._base_args, **self._base_kwargs)\n",
    "        # Create empty tensor to store future atoms in\n",
    "        self._theta = tf.zeros(\n",
    "            [0] + self.get_batch_shape().as_list() +\n",
    "            self.get_event_shape().as_list())\n",
    "        # self._theta = tf.expand_dims(\n",
    "            # self._base.sample(self.get_batch_shape()), 0)\n",
    "\n",
    "        # Instantiate beta distribution for stick breaking proportions\n",
    "        self._betadist = Beta(a=tf.ones_like(self.alpha), b=self.alpha)\n",
    "        # Create empty tensor to store stick breaking proportions\n",
    "        self._beta = tf.zeros([0] + self.get_batch_shape().as_list())\n",
    "\n",
    "        super(DirichletProcess, self).__init__(\n",
    "            dtype=tf.float32,\n",
    "            is_continuous=False,\n",
    "            is_reparameterized=False,\n",
    "            validate_args=validate_args,\n",
    "            allow_nan_stats=allow_nan_stats,\n",
    "            parameters=parameters,\n",
    "            graph_parents=[self._alpha, self._theta, self._beta],\n",
    "            name=ns,\n",
    "            value=value)\n",
    "\n",
    "  @property\n",
    "  def alpha(self):\n",
    "    \"\"\"Concentration parameter.\"\"\"\n",
    "    return self._alpha\n",
    "\n",
    "  @property\n",
    "  def beta(self):\n",
    "    \"\"\"Stick breaking proportions. It has shape [None] + batch_shape, where\n",
    "    the first dimension is the number of atoms, instantiated only as\n",
    "    needed.\"\"\"\n",
    "    return self._beta\n",
    "\n",
    "  @property\n",
    "  def theta(self):\n",
    "    \"\"\"Atoms. It has shape [None] + batch_shape + event_shape, where\n",
    "    the first dimension is the number of atoms, instantiated only as\n",
    "    needed.\"\"\"\n",
    "    return self._theta\n",
    "\n",
    "  def _batch_shape(self):\n",
    "    return tf.shape(self.alpha)\n",
    "\n",
    "  def _get_batch_shape(self):\n",
    "    return self.alpha.get_shape()\n",
    "\n",
    "  def _event_shape(self):\n",
    "    return tf.shape(self._base)\n",
    "\n",
    "  def _get_event_shape(self):\n",
    "    return self._base.get_shape()\n",
    "\n",
    "  def _sample_n(self, n, seed=None):\n",
    "    \"\"\"Sample ``n`` draws from the DP. Draws from the base\n",
    "    distribution are memoized across ``n`` and across calls to\n",
    "    ``sample()``.\n",
    "\n",
    "    Draws from the base distribution are not memoized across the batch\n",
    "    shape, i.e., each independent DP in the batch shape has its own\n",
    "    memoized samples.\n",
    "\n",
    "    Returns\n",
    "    -------\n",
    "    tf.Tensor\n",
    "      A ``tf.Tensor`` of shape ``[n] + batch_shape + event_shape``,\n",
    "      where ``n`` is the number of samples for each DP,\n",
    "      ``batch_shape`` is the number of independent DPs, and\n",
    "      ``event_shape`` is the shape of the base distribution.\n",
    "\n",
    "    Notes\n",
    "    -----\n",
    "    The implementation has one inefficiency, which is that it draws\n",
    "    (batch_shape,) samples from the base distribution when adding a\n",
    "    new persistent state. Ideally, we would only draw new samples for\n",
    "    those in the loop which require it.\n",
    "    \"\"\"\n",
    "    if seed is not None:\n",
    "      raise NotImplementedError(\"seed is not implemented.\")\n",
    "\n",
    "    batch_shape = self.get_batch_shape().as_list()\n",
    "    event_shape = self.get_event_shape().as_list()\n",
    "    rank = 1 + len(batch_shape) + len(event_shape)\n",
    "    # Note this is for scoping within the while loop's body function.\n",
    "    self._temp_scope = [n, batch_shape, event_shape, rank]\n",
    "\n",
    "    # Start at the beginning of the stick, i.e. the k'th index\n",
    "    k = tf.constant(0)\n",
    "\n",
    "    # Define boolean tensor. It is True for samples that require continuing\n",
    "    # the while loop and False for samples that can receive their base\n",
    "    # distribution (coin lands heads).\n",
    "    bools = tf.ones([n] + self.get_batch_shape().as_list(), dtype=tf.bool)\n",
    "\n",
    "    # Initialize all samples as zero, they will be overwritten in any case\n",
    "    draws = tf.zeros([n] + batch_shape + event_shape)\n",
    "\n",
    "    # Calculate shape invariance conditions for theta and beta as these\n",
    "    # can change shape between loop iterations.\n",
    "    theta_shape = tf.TensorShape([None])\n",
    "    beta_shape = tf.TensorShape([None])\n",
    "    if len(self.theta.shape) > 1:\n",
    "      theta_shape = theta_shape.concatenate(self.theta.shape[1:])\n",
    "      beta_shape = beta_shape.concatenate(self.beta.shape[1:])\n",
    "\n",
    "    # While we have not broken enough sticks, keep sampling.\n",
    "    _, _, self._theta, self._beta, samples = tf.while_loop(\n",
    "        self._sample_n_cond, self._sample_n_body,\n",
    "        loop_vars=[k, bools, self.theta, self.beta, draws],\n",
    "        shape_invariants=[k.shape, bools.shape, theta_shape, beta_shape, draws.shape])\n",
    "\n",
    "    return samples\n",
    "\n",
    "  def _sample_n_cond(self, k, bools, theta, beta, draws):\n",
    "    # Proceed if at least one bool is True.\n",
    "    return tf.reduce_any(bools)\n",
    "\n",
    "  def _sample_n_body(self, k, bools, theta, beta, draws):\n",
    "    n, batch_shape, event_shape, rank = self._temp_scope\n",
    "\n",
    "    # If necessary, break a new piece of stick, i.e.\n",
    "    # add a new persistent atom to theta and sample another beta\n",
    "    theta, beta = tf.cond(\n",
    "        tf.shape(theta)[0] - 1 >= k,\n",
    "        lambda: (theta, beta),\n",
    "        lambda: (\n",
    "            tf.concat(\n",
    "                [theta, tf.expand_dims(self._base.sample(batch_shape), 0)], 0),\n",
    "            tf.concat(\n",
    "                [beta, tf.expand_dims(self._betadist.sample(), 0)], 0)))\n",
    "    theta_k = tf.gather(theta, k)\n",
    "    beta_k = tf.gather(beta, k)\n",
    "\n",
    "    # Assign True samples to the new theta_k.\n",
    "    if len(bools.get_shape()) <= 1:\n",
    "      bools_tile = bools\n",
    "    else:\n",
    "      # ``tf.where`` only index subsets when ``bools`` is at most a\n",
    "      # vector. In general, ``bools`` has shape (n, batch_shape).\n",
    "      # Therefore we tile ``bools`` to be of shape\n",
    "      # (n, batch_shape, event_shape) in order to index per-element.\n",
    "      bools_tile = tf.tile(tf.reshape(\n",
    "          bools, [n] + batch_shape + [1] * len(event_shape)),\n",
    "          [1] + [1] * len(batch_shape) + event_shape)\n",
    "\n",
    "    theta_k_tile = tf.tile(tf.expand_dims(theta_k, 0), [n] + [1] * (rank - 1))\n",
    "    draws = tf.where(bools_tile, theta_k_tile, draws)\n",
    "\n",
    "    # Draw new stick probability, then flip coins.\n",
    "    flips = Bernoulli(p=beta_k).sample(n)\n",
    "    # If coin lands heads, assign sample's corresponding bool to False\n",
    "    # (this ends its \"while loop\").\n",
    "    bools = tf.where(tf.cast(flips, tf.bool), tf.zeros_like(bools), bools)\n",
    "    return k+1, bools, theta, beta, draws"
   ]
  },
  {
   "cell_type": "code",
   "execution_count": 6,
   "metadata": {
    "collapsed": false
   },
   "outputs": [],
   "source": [
    "sess = tf.Session()\n",
    "\n",
    "# Demo of the DirichletProcess random variable in Edward.\n",
    "base_cls = Normal\n",
    "kwargs = {'mu': 0.0, 'sigma': 1.0}\n",
    "\n",
    "# Highly concentrated DP.\n",
    "alpha = 1.0\n",
    "dp = DirichletProcess(alpha, base_cls, **kwargs)"
   ]
  },
  {
   "cell_type": "code",
   "execution_count": 7,
   "metadata": {
    "collapsed": false
   },
   "outputs": [],
   "source": [
    "x = dp.sample(100)"
   ]
  },
  {
   "cell_type": "code",
   "execution_count": 8,
   "metadata": {
    "collapsed": false
   },
   "outputs": [
    {
     "data": {
      "image/png": "[encoded data removed]",
      "text/plain": [
       "<matplotlib.figure.Figure at 0x7f1558584710>"
      ]
     },
     "metadata": {},
     "output_type": "display_data"
    }
   ],
   "source": [
    "samples = sess.run(x)\n",
    "plt.hist(samples, bins=100, range=(-3.0, 3.0))\n",
    "plt.title(\"DP({0}, N(0, 1))\".format(alpha))\n",
    "plt.show()"
   ]
  },
  {
   "cell_type": "code",
   "execution_count": 9,
   "metadata": {
    "collapsed": false
   },
   "outputs": [
    {
     "data": {
      "image/png": "[encoded data removed]",
      "text/plain": [
       "<matplotlib.figure.Figure at 0x7f1554179400>"
      ]
     },
     "metadata": {},
     "output_type": "display_data"
    }
   ],
   "source": [
    "# Highly concentrated DP.\n",
    "alpha = 1.0\n",
    "dp = DirichletProcess(alpha, base_cls, **kwargs)\n",
    "x = dp.sample(1000)\n",
    "samples = sess.run(x)\n",
    "plt.hist(samples, bins=100, range=(-3.0, 3.0))\n",
    "plt.title(\"DP({0}, N(0, 1))\".format(alpha))\n",
    "plt.show()"
   ]
  },
  {
   "cell_type": "code",
   "execution_count": 10,
   "metadata": {
    "collapsed": false
   },
   "outputs": [
    {
     "data": {
      "image/png": "[encoded data removed]",
      "text/plain": [
       "<matplotlib.figure.Figure at 0x7f15181149e8>"
      ]
     },
     "metadata": {},
     "output_type": "display_data"
    }
   ],
   "source": [
    "# More spread out DP.\n",
    "alpha = 50.0\n",
    "dp = DirichletProcess(alpha, base_cls, **kwargs)\n",
    "x = dp.sample(1000)\n",
    "samples = sess.run(x)\n",
    "plt.hist(samples, bins=100, range=(-3.0, 3.0))\n",
    "plt.title(\"DP({0}, N(0, 1))\".format(alpha))\n",
    "plt.show()"
   ]
  },
  {
   "cell_type": "code",
   "execution_count": 11,
   "metadata": {
    "collapsed": false
   },
   "outputs": [
    {
     "data": {
      "image/png": "[encoded data removed]",
      "text/plain": [
       "<matplotlib.figure.Figure at 0x7f151819c828>"
      ]
     },
     "metadata": {},
     "output_type": "display_data"
    }
   ],
   "source": [
    "# States persist across calls to sample() in a DP.\n",
    "alpha = 1.0\n",
    "dp = DirichletProcess(alpha, base_cls, **kwargs)\n",
    "x = dp.sample(50)\n",
    "y = dp.sample(75)\n",
    "samples_x, samples_y = sess.run([x, y])\n",
    "plt.subplot(211)\n",
    "plt.hist(samples_x, bins=100, range=(-3.0, 3.0))\n",
    "plt.title(\"DP({0}, N(0, 1)) across two calls to sample()\".format(alpha))\n",
    "plt.subplot(212)\n",
    "plt.hist(samples_y, bins=100, range=(-3.0, 3.0))\n",
    "plt.show()"
   ]
  },
  {
   "cell_type": "code",
   "execution_count": 12,
   "metadata": {
    "collapsed": false
   },
   "outputs": [
    {
     "name": "stdout",
     "output_type": "stream",
     "text": [
      "[0.23665094, 0.23665094]\n",
      "[-0.49100482, -0.49100482]\n"
     ]
    }
   ],
   "source": [
    "# ``theta`` is the distribution indirectly returned by the DP.\n",
    "# Fetching theta is the same as fetching the Dirichlet process.\n",
    "dp = DirichletProcess(alpha, base_cls, **kwargs)\n",
    "theta = base_cls(value=tf.cast(dp, tf.float32), **kwargs)\n",
    "print(sess.run([dp, theta]))\n",
    "print(sess.run([dp, theta]))"
   ]
  },
  {
   "cell_type": "code",
   "execution_count": 13,
   "metadata": {
    "collapsed": false
   },
   "outputs": [
    {
     "name": "stdout",
     "output_type": "stream",
     "text": [
      "RandomVariable(\"DirichletProcess_5/\", shape=(3, 5, 2), dtype=float32)\n"
     ]
    }
   ],
   "source": [
    "# DirichletProcess can also take in non-scalar concentrations and bases.\n",
    "base_cls = Exponential\n",
    "kwargs = {'lam': tf.ones([5, 2])}\n",
    "dp = DirichletProcess(tf.constant([0.1, 0.6, 0.4]), base_cls, **kwargs)\n",
    "print(dp)"
   ]
  },
  {
   "cell_type": "code",
   "execution_count": null,
   "metadata": {
    "collapsed": true
   },
   "outputs": [],
   "source": []
  }
 ],
 "metadata": {
  "kernelspec": {
   "display_name": "Python 3",
   "language": "python",
   "name": "python3"
  },
  "language_info": {
   "codemirror_mode": {
    "name": "ipython",
    "version": 3
   },
   "file_extension": ".py",
   "mimetype": "text/x-python",
   "name": "python",
   "nbconvert_exporter": "python",
   "pygments_lexer": "ipython3",
   "version": "3.5.2"
  }
 },
 "nbformat": 4,
 "nbformat_minor": 2
}
