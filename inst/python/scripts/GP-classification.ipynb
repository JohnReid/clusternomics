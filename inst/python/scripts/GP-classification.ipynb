{
 "cells": [
  {
   "cell_type": "code",
   "execution_count": 11,
   "metadata": {
    "collapsed": true
   },
   "outputs": [],
   "source": [
    "import numpy as np\n",
    "import edward as ed\n",
    "import tensorflow as tf"
   ]
  },
  {
   "cell_type": "code",
   "execution_count": 23,
   "metadata": {
    "collapsed": false
   },
   "outputs": [
    {
     "data": {
      "text/plain": [
       "array([ 1.,  1.,  1.,  1.,  0.,  1.,  0.,  0.,  0.,  0.,  1.,  0.,  0.,\n",
       "        0.,  0.,  1.,  0.,  0.,  1.,  1.,  1.,  1.,  1.,  1.,  1.], dtype=float32)"
      ]
     },
     "execution_count": 23,
     "metadata": {},
     "output_type": "execute_result"
    }
   ],
   "source": [
    "df = np.loadtxt('/home/john/Dev/edward/examples/data/crabs_train.txt',\n",
    "                dtype='float32', delimiter=',')\n",
    "df[df[:, 0] == -1, 0] = 0  # replace -1 label with 0 label\n",
    "\n",
    "N = 25  # number of data points\n",
    "D = df.shape[1] - 1  # number of features\n",
    "\n",
    "subset = np.random.choice(df.shape[0], N, replace=False)\n",
    "X_train = df[subset, 1:]\n",
    "y_train = df[subset, 0]\n",
    "y_train"
   ]
  },
  {
   "cell_type": "code",
   "execution_count": 7,
   "metadata": {
    "collapsed": false
   },
   "outputs": [],
   "source": [
    "from edward.models import Bernoulli, Normal, MultivariateNormalFull\n",
    "from edward.util import multivariate_rbf\n",
    "\n",
    "def kernel(x):\n",
    "  mat = []\n",
    "  for i in range(N):\n",
    "    mat += [[]]\n",
    "    xi = x[i, :]\n",
    "    for j in range(N):\n",
    "      if j == i:\n",
    "        mat[i] += [multivariate_rbf(xi, xi)]\n",
    "      else:\n",
    "        xj = x[j, :]\n",
    "        mat[i] += [multivariate_rbf(xi, xj)]\n",
    "\n",
    "    mat[i] = tf.stack(mat[i])\n",
    "\n",
    "  return tf.stack(mat)\n",
    "\n",
    "X = tf.placeholder(tf.float32, [N, D])\n",
    "f = MultivariateNormalFull(mu=tf.zeros(N), sigma=kernel(X))\n",
    "y = Bernoulli(logits=f)"
   ]
  },
  {
   "cell_type": "code",
   "execution_count": 9,
   "metadata": {
    "collapsed": false
   },
   "outputs": [],
   "source": [
    "qf = Normal(mu=tf.Variable(tf.random_normal([N])),\n",
    "            sigma=tf.nn.softplus(tf.Variable(tf.random_normal([N]))))"
   ]
  },
  {
   "cell_type": "code",
   "execution_count": 12,
   "metadata": {
    "collapsed": false
   },
   "outputs": [
    {
     "name": "stdout",
     "output_type": "stream",
     "text": [
      "Iteration   1 [  0%]: Loss = 62.834\n",
      "Iteration  50 [ 10%]: Loss = 15.193\n",
      "Iteration 100 [ 20%]: Loss = 22.526\n",
      "Iteration 150 [ 30%]: Loss = 20.692\n",
      "Iteration 200 [ 40%]: Loss = 25.175\n",
      "Iteration 250 [ 50%]: Loss = 19.563\n",
      "Iteration 300 [ 60%]: Loss = 23.187\n",
      "Iteration 350 [ 70%]: Loss = 17.450\n",
      "Iteration 400 [ 80%]: Loss = 20.063\n",
      "Iteration 450 [ 90%]: Loss = 19.953\n",
      "Iteration 500 [100%]: Loss = 18.338\n"
     ]
    }
   ],
   "source": [
    "inference = ed.KLqp({f: qf}, data={X: X_train, y: y_train})\n",
    "inference.run(n_iter=500)"
   ]
  }
 ],
 "metadata": {
  "celltoolbar": "Raw Cell Format",
  "kernelspec": {
   "display_name": "Python 3",
   "language": "python",
   "name": "python3"
  },
  "language_info": {
   "codemirror_mode": {
    "name": "ipython",
    "version": 3
   },
   "file_extension": ".py",
   "mimetype": "text/x-python",
   "name": "python",
   "nbconvert_exporter": "python",
   "pygments_lexer": "ipython3",
   "version": "3.5.2"
  }
 },
 "nbformat": 4,
 "nbformat_minor": 2
}
