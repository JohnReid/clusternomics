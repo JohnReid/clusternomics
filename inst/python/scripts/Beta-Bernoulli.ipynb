{
 "cells": [
  {
   "cell_type": "markdown",
   "metadata": {
    "deletable": true,
    "editable": true
   },
   "source": [
    "# Beta-Bernoulli model\n",
    "We fit a simple beta-Bernoulli model."
   ]
  },
  {
   "cell_type": "code",
   "execution_count": 69,
   "metadata": {
    "collapsed": true,
    "deletable": true,
    "editable": true
   },
   "outputs": [],
   "source": [
    "import numpy as np\n",
    "import tensorflow as tf\n",
    "import edward as ed"
   ]
  },
  {
   "cell_type": "markdown",
   "metadata": {
    "deletable": true,
    "editable": true
   },
   "source": [
    "Configuration"
   ]
  },
  {
   "cell_type": "code",
   "execution_count": 113,
   "metadata": {
    "collapsed": true,
    "deletable": true,
    "editable": true
   },
   "outputs": [],
   "source": [
    "np.random.seed(37)"
   ]
  },
  {
   "cell_type": "markdown",
   "metadata": {
    "deletable": true,
    "editable": true
   },
   "source": [
    "## Sample"
   ]
  },
  {
   "cell_type": "code",
   "execution_count": 114,
   "metadata": {
    "collapsed": false,
    "deletable": true,
    "editable": true,
    "scrolled": true
   },
   "outputs": [
    {
     "name": "stdout",
     "output_type": "stream",
     "text": [
      "0.76\n"
     ]
    }
   ],
   "source": [
    "N = 50\n",
    "p = .8\n",
    "draws = np.random.choice([0, 1], size=N, p=[1-p, p])\n",
    "p_ml = sum(draws) / N\n",
    "print(p_ml)"
   ]
  },
  {
   "cell_type": "markdown",
   "metadata": {
    "deletable": true,
    "editable": true
   },
   "source": [
    "## Model"
   ]
  },
  {
   "cell_type": "code",
   "execution_count": 115,
   "metadata": {
    "collapsed": false,
    "deletable": true,
    "editable": true
   },
   "outputs": [],
   "source": [
    "from edward.models import Beta, Bernoulli\n",
    "theta = Beta(a=1., b=1.)\n",
    "x = Bernoulli(p=tf.ones([N]) * theta)"
   ]
  },
  {
   "cell_type": "markdown",
   "metadata": {
    "deletable": true,
    "editable": true
   },
   "source": [
    "## Variational distribution"
   ]
  },
  {
   "cell_type": "code",
   "execution_count": 116,
   "metadata": {
    "collapsed": false,
    "deletable": true,
    "editable": true
   },
   "outputs": [],
   "source": [
    "qtheta_a = tf.nn.softplus(tf.Variable(tf.random_normal([])))\n",
    "qtheta_b = tf.nn.softplus(tf.Variable(tf.random_normal([])))\n",
    "qtheta = Beta(a=qtheta_a, b=qtheta_b)"
   ]
  },
  {
   "cell_type": "markdown",
   "metadata": {
    "deletable": true,
    "editable": true
   },
   "source": [
    "## Inference"
   ]
  },
  {
   "cell_type": "code",
   "execution_count": 117,
   "metadata": {
    "collapsed": false,
    "deletable": true,
    "editable": true
   },
   "outputs": [
    {
     "name": "stdout",
     "output_type": "stream",
     "text": [
      "Iteration    1 [  0%]: Loss = 43.153\n",
      "Iteration  300 [ 10%]: Loss = 32.827\n",
      "Iteration  600 [ 20%]: Loss = 30.702\n",
      "Iteration  900 [ 30%]: Loss = 30.272\n",
      "Iteration 1200 [ 40%]: Loss = 30.169\n",
      "Iteration 1500 [ 50%]: Loss = 30.640\n",
      "Iteration 1800 [ 60%]: Loss = 30.149\n",
      "Iteration 2100 [ 70%]: Loss = 29.725\n",
      "Iteration 2400 [ 80%]: Loss = 30.173\n",
      "Iteration 2700 [ 90%]: Loss = 30.190\n",
      "Iteration 3000 [100%]: Loss = 30.098\n"
     ]
    }
   ],
   "source": [
    "inference = ed.KLqp({theta: qtheta}, data={x: draws})\n",
    "inference.run(n_iter=3000, n_samples=20)"
   ]
  },
  {
   "cell_type": "markdown",
   "metadata": {
    "deletable": true,
    "editable": true
   },
   "source": [
    "## Criticism"
   ]
  },
  {
   "cell_type": "code",
   "execution_count": 118,
   "metadata": {
    "collapsed": true,
    "deletable": true,
    "editable": true
   },
   "outputs": [],
   "source": [
    "x_post = ed.copy(x, {theta: qtheta})"
   ]
  },
  {
   "cell_type": "code",
   "execution_count": 121,
   "metadata": {
    "collapsed": false,
    "deletable": true,
    "editable": true
   },
   "outputs": [
    {
     "data": {
      "text/plain": [
       "0.74353731"
      ]
     },
     "execution_count": 121,
     "metadata": {},
     "output_type": "execute_result"
    }
   ],
   "source": [
    "qtheta.mean().eval()"
   ]
  },
  {
   "cell_type": "code",
   "execution_count": 141,
   "metadata": {
    "collapsed": false,
    "deletable": true,
    "editable": true
   },
   "outputs": [
    {
     "data": {
      "text/plain": [
       "0.10805982"
      ]
     },
     "execution_count": 141,
     "metadata": {},
     "output_type": "execute_result"
    }
   ],
   "source": [
    "qtheta.std().eval()"
   ]
  },
  {
   "cell_type": "code",
   "execution_count": 143,
   "metadata": {
    "collapsed": false,
    "deletable": true,
    "editable": true
   },
   "outputs": [
    {
     "name": "stdout",
     "output_type": "stream",
     "text": [
      "[array([ 0.63999999,  0.44      ,  0.94      ,  0.51999998,  0.51999998,\n",
      "        0.56      ,  0.81999999,  0.80000001,  0.68000001,  0.81999999,\n",
      "        0.57999998,  0.86000001,  0.72000003,  0.80000001,  0.57999998,\n",
      "        0.75999999,  0.77999997,  0.92000002,  0.83999997,  0.75999999,\n",
      "        0.60000002,  0.72000003,  0.66000003,  0.80000001,  0.83999997,\n",
      "        0.63999999,  0.88      ,  0.83999997,  0.57999998,  0.92000002,\n",
      "        0.89999998,  0.86000001,  0.81999999,  0.66000003,  0.44      ,\n",
      "        0.72000003,  0.77999997,  0.66000003,  0.92000002,  0.68000001,\n",
      "        0.63999999,  0.77999997,  0.69999999,  0.86000001,  0.92000002,\n",
      "        0.5       ,  0.75999999,  0.86000001,  0.77999997,  0.80000001,\n",
      "        0.72000003,  0.72000003,  0.75999999,  0.56      ,  0.54000002,\n",
      "        0.77999997,  0.74000001,  0.51999998,  0.68000001,  0.54000002,\n",
      "        0.89999998,  0.77999997,  0.72000003,  0.83999997,  0.68000001,\n",
      "        0.95999998,  0.47999999,  0.75999999,  0.68000001,  0.94      ,\n",
      "        0.75999999,  0.69999999,  0.77999997,  0.51999998,  0.75999999,\n",
      "        0.54000002,  0.92000002,  0.66000003,  0.75999999,  0.77999997,\n",
      "        0.86000001,  0.72000003,  0.72000003,  1.        ,  0.80000001,\n",
      "        0.89999998,  0.66000003,  0.80000001,  0.77999997,  0.68000001,\n",
      "        0.80000001,  0.44      ,  0.62      ,  0.5       ,  0.80000001,\n",
      "        0.44      ,  0.88      ,  0.5       ,  0.66000003,  0.44      ], dtype=float32), array([ 0.75999999,  0.75999999,  0.75999999,  0.75999999,  0.75999999,\n",
      "        0.75999999,  0.75999999,  0.75999999,  0.75999999,  0.75999999,\n",
      "        0.75999999,  0.75999999,  0.75999999,  0.75999999,  0.75999999,\n",
      "        0.75999999,  0.75999999,  0.75999999,  0.75999999,  0.75999999,\n",
      "        0.75999999,  0.75999999,  0.75999999,  0.75999999,  0.75999999,\n",
      "        0.75999999,  0.75999999,  0.75999999,  0.75999999,  0.75999999,\n",
      "        0.75999999,  0.75999999,  0.75999999,  0.75999999,  0.75999999,\n",
      "        0.75999999,  0.75999999,  0.75999999,  0.75999999,  0.75999999,\n",
      "        0.75999999,  0.75999999,  0.75999999,  0.75999999,  0.75999999,\n",
      "        0.75999999,  0.75999999,  0.75999999,  0.75999999,  0.75999999,\n",
      "        0.75999999,  0.75999999,  0.75999999,  0.75999999,  0.75999999,\n",
      "        0.75999999,  0.75999999,  0.75999999,  0.75999999,  0.75999999,\n",
      "        0.75999999,  0.75999999,  0.75999999,  0.75999999,  0.75999999,\n",
      "        0.75999999,  0.75999999,  0.75999999,  0.75999999,  0.75999999,\n",
      "        0.75999999,  0.75999999,  0.75999999,  0.75999999,  0.75999999,\n",
      "        0.75999999,  0.75999999,  0.75999999,  0.75999999,  0.75999999,\n",
      "        0.75999999,  0.75999999,  0.75999999,  0.75999999,  0.75999999,\n",
      "        0.75999999,  0.75999999,  0.75999999,  0.75999999,  0.75999999,\n",
      "        0.75999999,  0.75999999,  0.75999999,  0.75999999,  0.75999999,\n",
      "        0.75999999,  0.75999999,  0.75999999,  0.75999999,  0.75999999], dtype=float32)]\n"
     ]
    }
   ],
   "source": [
    "print(ed.ppc(lambda xs, zs: tf.reduce_mean(tf.cast(xs[x_post], tf.float32)),\n",
    "             data={x_post: draws}))"
   ]
  }
 ],
 "metadata": {
  "kernelspec": {
   "display_name": "Python 3",
   "language": "python",
   "name": "python3"
  },
  "language_info": {
   "codemirror_mode": {
    "name": "ipython",
    "version": 3
   },
   "file_extension": ".py",
   "mimetype": "text/x-python",
   "name": "python",
   "nbconvert_exporter": "python",
   "pygments_lexer": "ipython3",
   "version": "3.5.2"
  }
 },
 "nbformat": 4,
 "nbformat_minor": 2
}
